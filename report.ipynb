{
  "nbformat": 4,
  "nbformat_minor": 0,
  "metadata": {
    "colab": {
      "provenance": []
    },
    "kernelspec": {
      "name": "python3",
      "display_name": "Python 3"
    },
    "language_info": {
      "name": "python"
    }
  },
  "cells": [
    {
      "cell_type": "markdown",
      "source": [
        "# Imports"
      ],
      "metadata": {
        "id": "GnvMrxg6Tf0k"
      }
    },
    {
      "cell_type": "code",
      "source": [
        "import pandas as pd\n",
        "import requests"
      ],
      "metadata": {
        "id": "-UYoay34TZaK"
      },
      "execution_count": 1,
      "outputs": []
    },
    {
      "cell_type": "markdown",
      "source": [
        "# Loading data"
      ],
      "metadata": {
        "id": "OKhjssDY5cSS"
      }
    },
    {
      "cell_type": "code",
      "source": [
        "def list_csv_files(url):\n",
        "    response = requests.get(url)\n",
        "\n",
        "    if response.status_code == 200:\n",
        "        content = response.json()\n",
        "        csv_files = [file['download_url'] for file in content if file['name'].endswith('.csv')]\n",
        "        return csv_files\n",
        "    else:\n",
        "        print(f'Error accessing URL.\\nStatus code: {response.status_code}')\n",
        "\n",
        "def get_dataframes(user, repo, folder, dtype=None):\n",
        "    url = f'https://api.github.com/repos/{user}/{repo}/contents/{folder}'\n",
        "    csv_files = list_csv_files(url)\n",
        "\n",
        "    df_list = []\n",
        "\n",
        "    for file_url in csv_files:\n",
        "        df = pd.read_csv(file_url, dtype=dtype)\n",
        "        df_list.append(df)\n",
        "\n",
        "    df_list = pd.concat(df_list, ignore_index=True)\n",
        "\n",
        "    return df_list"
      ],
      "metadata": {
        "id": "hrUy2G68Tjbq"
      },
      "execution_count": 2,
      "outputs": []
    },
    {
      "cell_type": "markdown",
      "source": [
        "# Pre-processing"
      ],
      "metadata": {
        "id": "U6sZY1zeNi8g"
      }
    },
    {
      "cell_type": "markdown",
      "source": [
        "## Eliminating irrelevant attributes"
      ],
      "metadata": {
        "id": "1Aq12ROFN4lZ"
      }
    },
    {
      "cell_type": "code",
      "source": [
        "def eliminate_columns(df, columns=[]):\n",
        "    # Drop columns\n",
        "    df = df.drop(columns=columns)\n",
        "    return df"
      ],
      "metadata": {
        "id": "vmBbdMTFN7Q5"
      },
      "execution_count": 3,
      "outputs": []
    },
    {
      "cell_type": "markdown",
      "source": [
        "## Handling attributes with missing values"
      ],
      "metadata": {
        "id": "Z_curvmzOOgT"
      }
    },
    {
      "cell_type": "code",
      "source": [
        "def find_rows_with_null_values(df):\n",
        "    # Indexes of rows with null values\n",
        "    idxNullRows = pd.isnull(df).any().to_numpy().nonzero()\n",
        "\n",
        "    # Print lines with missing values\n",
        "    display(df.iloc[idxNullRows])\n",
        "\n",
        "    return idxNullRows"
      ],
      "metadata": {
        "id": "6n8bGJapOZzf"
      },
      "execution_count": 4,
      "outputs": []
    },
    {
      "cell_type": "markdown",
      "source": [
        "# Execution"
      ],
      "metadata": {
        "id": "vc183TvzTtjq"
      }
    },
    {
      "cell_type": "code",
      "source": [
        "# GitHub repository with the data\n",
        "user, repo, folder = 'GabrielNG13', 'ps-mediamonks-datascience', 'data/transient'\n",
        "\n",
        "# Data types\n",
        "dtype = {'ano': str, 'uf': str, 'genero': str, 'mes': str, 'numero': int}\n",
        "\n",
        "# Loading data\n",
        "df = get_dataframes(user, repo, folder, dtype)"
      ],
      "metadata": {
        "id": "WRao2mET5knC"
      },
      "execution_count": 5,
      "outputs": []
    },
    {
      "cell_type": "code",
      "source": [
        "# I classified all columns as relevant\n",
        "# No column to be droped\n",
        "df = eliminate_columns(df)"
      ],
      "metadata": {
        "id": "ZY-iUPDNVMRk"
      },
      "execution_count": 6,
      "outputs": []
    },
    {
      "cell_type": "code",
      "source": [
        "rows = find_rows_with_null_values(df)\n",
        "# No record has any null values\n",
        "# No action necessary"
      ],
      "metadata": {
        "colab": {
          "base_uri": "https://localhost:8080/",
          "height": 53
        },
        "id": "SOByA62HUt-R",
        "outputId": "d4d70516-d630-4774-96b9-5b9feadc3505"
      },
      "execution_count": 7,
      "outputs": [
        {
          "output_type": "display_data",
          "data": {
            "text/plain": [
              "Empty DataFrame\n",
              "Columns: [ano, uf, genero, mes, numero]\n",
              "Index: []"
            ],
            "text/html": [
              "\n",
              "  <div id=\"df-28bf0eb6-20f8-446f-aaa5-dffcedd0a747\" class=\"colab-df-container\">\n",
              "    <div>\n",
              "<style scoped>\n",
              "    .dataframe tbody tr th:only-of-type {\n",
              "        vertical-align: middle;\n",
              "    }\n",
              "\n",
              "    .dataframe tbody tr th {\n",
              "        vertical-align: top;\n",
              "    }\n",
              "\n",
              "    .dataframe thead th {\n",
              "        text-align: right;\n",
              "    }\n",
              "</style>\n",
              "<table border=\"1\" class=\"dataframe\">\n",
              "  <thead>\n",
              "    <tr style=\"text-align: right;\">\n",
              "      <th></th>\n",
              "      <th>ano</th>\n",
              "      <th>uf</th>\n",
              "      <th>genero</th>\n",
              "      <th>mes</th>\n",
              "      <th>numero</th>\n",
              "    </tr>\n",
              "  </thead>\n",
              "  <tbody>\n",
              "  </tbody>\n",
              "</table>\n",
              "</div>\n",
              "    <div class=\"colab-df-buttons\">\n",
              "\n",
              "  <div class=\"colab-df-container\">\n",
              "    <button class=\"colab-df-convert\" onclick=\"convertToInteractive('df-28bf0eb6-20f8-446f-aaa5-dffcedd0a747')\"\n",
              "            title=\"Convert this dataframe to an interactive table.\"\n",
              "            style=\"display:none;\">\n",
              "\n",
              "  <svg xmlns=\"http://www.w3.org/2000/svg\" height=\"24px\" viewBox=\"0 -960 960 960\">\n",
              "    <path d=\"M120-120v-720h720v720H120Zm60-500h600v-160H180v160Zm220 220h160v-160H400v160Zm0 220h160v-160H400v160ZM180-400h160v-160H180v160Zm440 0h160v-160H620v160ZM180-180h160v-160H180v160Zm440 0h160v-160H620v160Z\"/>\n",
              "  </svg>\n",
              "    </button>\n",
              "\n",
              "  <style>\n",
              "    .colab-df-container {\n",
              "      display:flex;\n",
              "      gap: 12px;\n",
              "    }\n",
              "\n",
              "    .colab-df-convert {\n",
              "      background-color: #E8F0FE;\n",
              "      border: none;\n",
              "      border-radius: 50%;\n",
              "      cursor: pointer;\n",
              "      display: none;\n",
              "      fill: #1967D2;\n",
              "      height: 32px;\n",
              "      padding: 0 0 0 0;\n",
              "      width: 32px;\n",
              "    }\n",
              "\n",
              "    .colab-df-convert:hover {\n",
              "      background-color: #E2EBFA;\n",
              "      box-shadow: 0px 1px 2px rgba(60, 64, 67, 0.3), 0px 1px 3px 1px rgba(60, 64, 67, 0.15);\n",
              "      fill: #174EA6;\n",
              "    }\n",
              "\n",
              "    .colab-df-buttons div {\n",
              "      margin-bottom: 4px;\n",
              "    }\n",
              "\n",
              "    [theme=dark] .colab-df-convert {\n",
              "      background-color: #3B4455;\n",
              "      fill: #D2E3FC;\n",
              "    }\n",
              "\n",
              "    [theme=dark] .colab-df-convert:hover {\n",
              "      background-color: #434B5C;\n",
              "      box-shadow: 0px 1px 3px 1px rgba(0, 0, 0, 0.15);\n",
              "      filter: drop-shadow(0px 1px 2px rgba(0, 0, 0, 0.3));\n",
              "      fill: #FFFFFF;\n",
              "    }\n",
              "  </style>\n",
              "\n",
              "    <script>\n",
              "      const buttonEl =\n",
              "        document.querySelector('#df-28bf0eb6-20f8-446f-aaa5-dffcedd0a747 button.colab-df-convert');\n",
              "      buttonEl.style.display =\n",
              "        google.colab.kernel.accessAllowed ? 'block' : 'none';\n",
              "\n",
              "      async function convertToInteractive(key) {\n",
              "        const element = document.querySelector('#df-28bf0eb6-20f8-446f-aaa5-dffcedd0a747');\n",
              "        const dataTable =\n",
              "          await google.colab.kernel.invokeFunction('convertToInteractive',\n",
              "                                                    [key], {});\n",
              "        if (!dataTable) return;\n",
              "\n",
              "        const docLinkHtml = 'Like what you see? Visit the ' +\n",
              "          '<a target=\"_blank\" href=https://colab.research.google.com/notebooks/data_table.ipynb>data table notebook</a>'\n",
              "          + ' to learn more about interactive tables.';\n",
              "        element.innerHTML = '';\n",
              "        dataTable['output_type'] = 'display_data';\n",
              "        await google.colab.output.renderOutput(dataTable, element);\n",
              "        const docLink = document.createElement('div');\n",
              "        docLink.innerHTML = docLinkHtml;\n",
              "        element.appendChild(docLink);\n",
              "      }\n",
              "    </script>\n",
              "  </div>\n",
              "\n",
              "\n",
              "    </div>\n",
              "  </div>\n"
            ],
            "application/vnd.google.colaboratory.intrinsic+json": {
              "type": "dataframe",
              "repr_error": "Out of range float values are not JSON compliant: nan"
            }
          },
          "metadata": {}
        }
      ]
    }
  ]
}