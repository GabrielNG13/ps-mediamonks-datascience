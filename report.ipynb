{
  "nbformat": 4,
  "nbformat_minor": 0,
  "metadata": {
    "colab": {
      "provenance": []
    },
    "kernelspec": {
      "name": "python3",
      "display_name": "Python 3"
    },
    "language_info": {
      "name": "python"
    }
  },
  "cells": [
    {
      "cell_type": "markdown",
      "source": [
        "# Imports"
      ],
      "metadata": {
        "id": "GnvMrxg6Tf0k"
      }
    },
    {
      "cell_type": "code",
      "source": [
        "import pandas as pd\n",
        "import requests"
      ],
      "metadata": {
        "id": "-UYoay34TZaK"
      },
      "execution_count": 1,
      "outputs": []
    },
    {
      "cell_type": "markdown",
      "source": [
        "# Functions"
      ],
      "metadata": {
        "id": "R6E5g9ZyThM8"
      }
    },
    {
      "cell_type": "markdown",
      "source": [
        "## Read Data"
      ],
      "metadata": {
        "id": "OKhjssDY5cSS"
      }
    },
    {
      "cell_type": "code",
      "source": [
        "def list_csv_files(url):\n",
        "    response = requests.get(url)\n",
        "\n",
        "    if response.status_code == 200:\n",
        "        content = response.json()\n",
        "        csv_files = [file['download_url'] for file in content if file['name'].endswith('.csv')]\n",
        "        return csv_files\n",
        "    else:\n",
        "        print(f'Error accessing URL.\\nStatus code: {response.status_code}')\n",
        "\n",
        "def get_dataframes(user, repo, folder):\n",
        "    url = f'https://api.github.com/repos/{user}/{repo}/contents/{folder}'\n",
        "    csv_files = list_csv_files(url)\n",
        "\n",
        "    df_list = []\n",
        "\n",
        "    for file_url in csv_files:\n",
        "        df = pd.read_csv(file_url)\n",
        "        df_list.append(df)\n",
        "\n",
        "    df_list = pd.concat(df_list, ignore_index=True)\n",
        "\n",
        "    return df_list"
      ],
      "metadata": {
        "id": "hrUy2G68Tjbq"
      },
      "execution_count": 2,
      "outputs": []
    },
    {
      "cell_type": "markdown",
      "source": [
        "# Execution"
      ],
      "metadata": {
        "id": "vc183TvzTtjq"
      }
    },
    {
      "cell_type": "code",
      "source": [
        "user, repo, folder = 'GabrielNG13', 'ps-mediamonks-datascience', 'data/transient'\n",
        "\n",
        "df = get_dataframes(user, repo, folder)"
      ],
      "metadata": {
        "id": "WRao2mET5knC"
      },
      "execution_count": 3,
      "outputs": []
    },
    {
      "cell_type": "code",
      "source": [
        "df.info()"
      ],
      "metadata": {
        "colab": {
          "base_uri": "https://localhost:8080/"
        },
        "id": "mnmeXHlD9hGB",
        "outputId": "aa265fa7-24c3-4f75-a107-047b0aea0dba"
      },
      "execution_count": 4,
      "outputs": [
        {
          "output_type": "stream",
          "name": "stdout",
          "text": [
            "<class 'pandas.core.frame.DataFrame'>\n",
            "RangeIndex: 4536 entries, 0 to 4535\n",
            "Data columns (total 5 columns):\n",
            " #   Column  Non-Null Count  Dtype \n",
            "---  ------  --------------  ----- \n",
            " 0   ano     4536 non-null   int64 \n",
            " 1   uf      4536 non-null   object\n",
            " 2   genero  4536 non-null   object\n",
            " 3   mes     4536 non-null   object\n",
            " 4   numero  4536 non-null   int64 \n",
            "dtypes: int64(2), object(3)\n",
            "memory usage: 177.3+ KB\n"
          ]
        }
      ]
    }
  ]
}