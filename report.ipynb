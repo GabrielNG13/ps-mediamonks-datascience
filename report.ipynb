{
  "nbformat": 4,
  "nbformat_minor": 0,
  "metadata": {
    "colab": {
      "provenance": []
    },
    "kernelspec": {
      "name": "python3",
      "display_name": "Python 3"
    },
    "language_info": {
      "name": "python"
    }
  },
  "cells": [
    {
      "cell_type": "markdown",
      "source": [
        "# Imports"
      ],
      "metadata": {
        "id": "GnvMrxg6Tf0k"
      }
    },
    {
      "cell_type": "code",
      "source": [
        "import numpy as np\n",
        "import pandas as pd\n",
        "import requests\n",
        "\n",
        "from sklearn.linear_model import LinearRegression\n",
        "from sklearn.metrics import mean_absolute_error, mean_squared_error\n",
        "from sklearn.model_selection import train_test_split"
      ],
      "metadata": {
        "id": "-UYoay34TZaK"
      },
      "execution_count": 1,
      "outputs": []
    },
    {
      "cell_type": "markdown",
      "source": [
        "# Loading data"
      ],
      "metadata": {
        "id": "OKhjssDY5cSS"
      }
    },
    {
      "cell_type": "code",
      "source": [
        "def list_csv_files(url):\n",
        "    response = requests.get(url)\n",
        "\n",
        "    if response.status_code == 200:\n",
        "        content = response.json()\n",
        "        csv_files = [file['download_url'] for file in content if file['name'].endswith('.csv')]\n",
        "        return csv_files\n",
        "    else:\n",
        "        print(f'Error accessing URL.\\nStatus code: {response.status_code}')"
      ],
      "metadata": {
        "id": "hrUy2G68Tjbq"
      },
      "execution_count": 2,
      "outputs": []
    },
    {
      "cell_type": "code",
      "source": [
        "def get_dataframes(user, repo, folder, dtype=None):\n",
        "    url = f'https://api.github.com/repos/{user}/{repo}/contents/{folder}'\n",
        "    csv_files = list_csv_files(url)\n",
        "\n",
        "    df_list = []\n",
        "\n",
        "    for file_url in csv_files:\n",
        "        df = pd.read_csv(file_url, dtype=dtype)\n",
        "        df_list.append(df)\n",
        "\n",
        "    df_list = pd.concat(df_list, ignore_index=True)\n",
        "\n",
        "    return df_list"
      ],
      "metadata": {
        "id": "5VsLHjOgpmZr"
      },
      "execution_count": 3,
      "outputs": []
    },
    {
      "cell_type": "markdown",
      "source": [
        "# Pre-processing"
      ],
      "metadata": {
        "id": "U6sZY1zeNi8g"
      }
    },
    {
      "cell_type": "markdown",
      "source": [
        "## Eliminating irrelevant attributes"
      ],
      "metadata": {
        "id": "1Aq12ROFN4lZ"
      }
    },
    {
      "cell_type": "code",
      "source": [
        "def eliminate_columns(df, columns=[]):\n",
        "    # Drop columns\n",
        "    df = df.drop(columns=columns)\n",
        "    return df"
      ],
      "metadata": {
        "id": "vmBbdMTFN7Q5"
      },
      "execution_count": 4,
      "outputs": []
    },
    {
      "cell_type": "markdown",
      "source": [
        "## Handling attributes with missing values"
      ],
      "metadata": {
        "id": "Z_curvmzOOgT"
      }
    },
    {
      "cell_type": "code",
      "source": [
        "def find_rows_with_null_values(df):\n",
        "    # Indexes of rows with null values\n",
        "    idxNullRows = pd.isnull(df).any().to_numpy().nonzero()\n",
        "\n",
        "    # Print lines with missing values\n",
        "    display(df.iloc[idxNullRows])\n",
        "\n",
        "    return idxNullRows"
      ],
      "metadata": {
        "id": "6n8bGJapOZzf"
      },
      "execution_count": 5,
      "outputs": []
    },
    {
      "cell_type": "markdown",
      "source": [
        "# Regression model"
      ],
      "metadata": {
        "id": "CvwWO9v1jIb6"
      }
    },
    {
      "cell_type": "markdown",
      "source": [
        "## Dataset preparer"
      ],
      "metadata": {
        "id": "xPgeP8BSkPRu"
      }
    },
    {
      "cell_type": "code",
      "source": [
        "def define_dataset(df, categorical_columns, target_column):\n",
        "    # Define X using df and indicating dummy variables\n",
        "    X = pd.get_dummies(df, columns=categorical_columns, drop_first=True)\n",
        "\n",
        "    # Define Y using target variable\n",
        "    y = X[target_column]\n",
        "\n",
        "    return X, y"
      ],
      "metadata": {
        "id": "PBCGBukTpzNp"
      },
      "execution_count": 6,
      "outputs": []
    },
    {
      "cell_type": "code",
      "source": [
        "def split_dataset(X, y, test_size=0.3):\n",
        "    # Split dataset with the selected test_size or 70/30 by default\n",
        "    X_train, X_test, y_train, y_test = train_test_split(X, y, test_size=test_size, random_state=13)\n",
        "    print(f'X_train: {X_train.shape} | y_train: {y_train.shape}')\n",
        "    print(f'X_test: {X_test.shape} | y_test: {y_test.shape}')\n",
        "\n",
        "    return X_train, X_test, y_train, y_test"
      ],
      "metadata": {
        "id": "3_vR__KFpxiL"
      },
      "execution_count": 7,
      "outputs": []
    },
    {
      "cell_type": "markdown",
      "source": [
        "## Define model & predict"
      ],
      "metadata": {
        "id": "KUEMpw92lFWT"
      }
    },
    {
      "cell_type": "code",
      "source": [
        "def define_model(X_train, y_train):\n",
        "    # Create LinearRegression Model\n",
        "    model = LinearRegression()\n",
        "\n",
        "    # Compile model\n",
        "    model.fit(X_train, y_train)\n",
        "\n",
        "    return model"
      ],
      "metadata": {
        "id": "N09UyB1ulHj9"
      },
      "execution_count": 8,
      "outputs": []
    },
    {
      "cell_type": "code",
      "source": [
        "def predict(model, X):\n",
        "    y_pred = model.predict(X)\n",
        "    return y_pred"
      ],
      "metadata": {
        "id": "VHu2kfaDnHbo"
      },
      "execution_count": 9,
      "outputs": []
    },
    {
      "cell_type": "markdown",
      "source": [
        "## Results"
      ],
      "metadata": {
        "id": "ZznBbto_nGGi"
      }
    },
    {
      "cell_type": "code",
      "source": [
        "def show_metrics(y_test, y_pred):\n",
        "    mae = mean_absolute_error(y_test, y_pred)\n",
        "    mse = mean_squared_error(y_test, y_pred)\n",
        "    print(f'Erro Médio Absoluto (MAE): {mae}')\n",
        "    print('O MAE indica a média da diferença entre o valor real com o predito\\n')\n",
        "    print(f'Erro Quadrático Médio (MSE): {mse}')\n",
        "    print('O MSE indica a diferença real/previsto, porém acentuando diferenças maiores')"
      ],
      "metadata": {
        "id": "FLFfXrkwp2IA"
      },
      "execution_count": 10,
      "outputs": []
    },
    {
      "cell_type": "markdown",
      "source": [
        "# Execution"
      ],
      "metadata": {
        "id": "vc183TvzTtjq"
      }
    },
    {
      "cell_type": "code",
      "source": [
        "# GitHub repository with the data\n",
        "user, repo, folder = 'GabrielNG13', 'ps-mediamonks-datascience', 'data/transient'\n",
        "\n",
        "# Data types\n",
        "dtype = {'ano': str, 'uf': str, 'genero': str, 'mes': str, 'numero': int}\n",
        "\n",
        "# Loading data\n",
        "df = get_dataframes(user, repo, folder, dtype)"
      ],
      "metadata": {
        "id": "WRao2mET5knC"
      },
      "execution_count": 11,
      "outputs": []
    },
    {
      "cell_type": "code",
      "source": [
        "# I classified all columns as relevant\n",
        "# No column to be droped\n",
        "df = eliminate_columns(df)"
      ],
      "metadata": {
        "id": "ZY-iUPDNVMRk"
      },
      "execution_count": 12,
      "outputs": []
    },
    {
      "cell_type": "code",
      "source": [
        "rows = find_rows_with_null_values(df)\n",
        "# No record has any null values\n",
        "# No action necessary"
      ],
      "metadata": {
        "colab": {
          "base_uri": "https://localhost:8080/",
          "height": 53
        },
        "id": "SOByA62HUt-R",
        "outputId": "f9831b87-a4a0-4ce5-be26-6272792605cd"
      },
      "execution_count": 13,
      "outputs": [
        {
          "output_type": "display_data",
          "data": {
            "text/plain": [
              "Empty DataFrame\n",
              "Columns: [ano, uf, genero, mes, numero]\n",
              "Index: []"
            ],
            "text/html": [
              "\n",
              "  <div id=\"df-f241135d-4f00-4348-8ac7-c8863d57f743\" class=\"colab-df-container\">\n",
              "    <div>\n",
              "<style scoped>\n",
              "    .dataframe tbody tr th:only-of-type {\n",
              "        vertical-align: middle;\n",
              "    }\n",
              "\n",
              "    .dataframe tbody tr th {\n",
              "        vertical-align: top;\n",
              "    }\n",
              "\n",
              "    .dataframe thead th {\n",
              "        text-align: right;\n",
              "    }\n",
              "</style>\n",
              "<table border=\"1\" class=\"dataframe\">\n",
              "  <thead>\n",
              "    <tr style=\"text-align: right;\">\n",
              "      <th></th>\n",
              "      <th>ano</th>\n",
              "      <th>uf</th>\n",
              "      <th>genero</th>\n",
              "      <th>mes</th>\n",
              "      <th>numero</th>\n",
              "    </tr>\n",
              "  </thead>\n",
              "  <tbody>\n",
              "  </tbody>\n",
              "</table>\n",
              "</div>\n",
              "    <div class=\"colab-df-buttons\">\n",
              "\n",
              "  <div class=\"colab-df-container\">\n",
              "    <button class=\"colab-df-convert\" onclick=\"convertToInteractive('df-f241135d-4f00-4348-8ac7-c8863d57f743')\"\n",
              "            title=\"Convert this dataframe to an interactive table.\"\n",
              "            style=\"display:none;\">\n",
              "\n",
              "  <svg xmlns=\"http://www.w3.org/2000/svg\" height=\"24px\" viewBox=\"0 -960 960 960\">\n",
              "    <path d=\"M120-120v-720h720v720H120Zm60-500h600v-160H180v160Zm220 220h160v-160H400v160Zm0 220h160v-160H400v160ZM180-400h160v-160H180v160Zm440 0h160v-160H620v160ZM180-180h160v-160H180v160Zm440 0h160v-160H620v160Z\"/>\n",
              "  </svg>\n",
              "    </button>\n",
              "\n",
              "  <style>\n",
              "    .colab-df-container {\n",
              "      display:flex;\n",
              "      gap: 12px;\n",
              "    }\n",
              "\n",
              "    .colab-df-convert {\n",
              "      background-color: #E8F0FE;\n",
              "      border: none;\n",
              "      border-radius: 50%;\n",
              "      cursor: pointer;\n",
              "      display: none;\n",
              "      fill: #1967D2;\n",
              "      height: 32px;\n",
              "      padding: 0 0 0 0;\n",
              "      width: 32px;\n",
              "    }\n",
              "\n",
              "    .colab-df-convert:hover {\n",
              "      background-color: #E2EBFA;\n",
              "      box-shadow: 0px 1px 2px rgba(60, 64, 67, 0.3), 0px 1px 3px 1px rgba(60, 64, 67, 0.15);\n",
              "      fill: #174EA6;\n",
              "    }\n",
              "\n",
              "    .colab-df-buttons div {\n",
              "      margin-bottom: 4px;\n",
              "    }\n",
              "\n",
              "    [theme=dark] .colab-df-convert {\n",
              "      background-color: #3B4455;\n",
              "      fill: #D2E3FC;\n",
              "    }\n",
              "\n",
              "    [theme=dark] .colab-df-convert:hover {\n",
              "      background-color: #434B5C;\n",
              "      box-shadow: 0px 1px 3px 1px rgba(0, 0, 0, 0.15);\n",
              "      filter: drop-shadow(0px 1px 2px rgba(0, 0, 0, 0.3));\n",
              "      fill: #FFFFFF;\n",
              "    }\n",
              "  </style>\n",
              "\n",
              "    <script>\n",
              "      const buttonEl =\n",
              "        document.querySelector('#df-f241135d-4f00-4348-8ac7-c8863d57f743 button.colab-df-convert');\n",
              "      buttonEl.style.display =\n",
              "        google.colab.kernel.accessAllowed ? 'block' : 'none';\n",
              "\n",
              "      async function convertToInteractive(key) {\n",
              "        const element = document.querySelector('#df-f241135d-4f00-4348-8ac7-c8863d57f743');\n",
              "        const dataTable =\n",
              "          await google.colab.kernel.invokeFunction('convertToInteractive',\n",
              "                                                    [key], {});\n",
              "        if (!dataTable) return;\n",
              "\n",
              "        const docLinkHtml = 'Like what you see? Visit the ' +\n",
              "          '<a target=\"_blank\" href=https://colab.research.google.com/notebooks/data_table.ipynb>data table notebook</a>'\n",
              "          + ' to learn more about interactive tables.';\n",
              "        element.innerHTML = '';\n",
              "        dataTable['output_type'] = 'display_data';\n",
              "        await google.colab.output.renderOutput(dataTable, element);\n",
              "        const docLink = document.createElement('div');\n",
              "        docLink.innerHTML = docLinkHtml;\n",
              "        element.appendChild(docLink);\n",
              "      }\n",
              "    </script>\n",
              "  </div>\n",
              "\n",
              "\n",
              "    </div>\n",
              "  </div>\n"
            ],
            "application/vnd.google.colaboratory.intrinsic+json": {
              "type": "dataframe",
              "repr_error": "Out of range float values are not JSON compliant: nan"
            }
          },
          "metadata": {}
        }
      ]
    },
    {
      "cell_type": "code",
      "source": [
        "# Set categorical and target columns\n",
        "categorical_columns = df.select_dtypes(include=['object']).columns.tolist()\n",
        "target_column = df.select_dtypes(include=['int64']).columns.tolist()\n",
        "\n",
        "X, y = define_dataset(df, categorical_columns, target_column)"
      ],
      "metadata": {
        "id": "kqROELPmd-Uq"
      },
      "execution_count": 14,
      "outputs": []
    },
    {
      "cell_type": "code",
      "source": [
        "# Proportion test/total\n",
        "test_size = 0.3\n",
        "X_train, X_test, y_train, y_test = split_dataset(X, y, test_size)"
      ],
      "metadata": {
        "colab": {
          "base_uri": "https://localhost:8080/"
        },
        "id": "LjybAwF1mXQa",
        "outputId": "1ed382db-d524-4aa4-d214-fac31e080b0f"
      },
      "execution_count": 15,
      "outputs": [
        {
          "output_type": "stream",
          "name": "stdout",
          "text": [
            "X_train: (3175, 45) | y_train: (3175, 1)\n",
            "X_test: (1361, 45) | y_test: (1361, 1)\n"
          ]
        }
      ]
    },
    {
      "cell_type": "code",
      "source": [
        "# Create model\n",
        "model = define_model(X_train, y_train)\n",
        "\n",
        "# Results\n",
        "y_pred = predict(model, X_test)\n",
        "show_metrics(y_test, y_pred)"
      ],
      "metadata": {
        "colab": {
          "base_uri": "https://localhost:8080/"
        },
        "id": "CSOAXzzRoIgp",
        "outputId": "37c6bb11-2c64-42a6-89b0-898033674258"
      },
      "execution_count": 16,
      "outputs": [
        {
          "output_type": "stream",
          "name": "stdout",
          "text": [
            "Erro Médio Absoluto (MAE): 2.355009038671054e-14\n",
            "O MAE indica a média da diferença entre o valor real com o predito\n",
            "\n",
            "Erro Quadrático Médio (MSE): 3.0292910567260295e-27\n",
            "O MSE indica a diferença real/previsto, porém acentuando diferenças maiores\n"
          ]
        }
      ]
    }
  ]
}